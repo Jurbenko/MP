{
  "nbformat": 4,
  "nbformat_minor": 0,
  "metadata": {
    "colab": {
      "name": "Modules.ipynb",
      "provenance": [],
      "collapsed_sections": [],
      "include_colab_link": true
    },
    "kernelspec": {
      "name": "python3",
      "display_name": "Python 3"
    }
  },
  "cells": [
    {
      "cell_type": "markdown",
      "metadata": {
        "id": "view-in-github",
        "colab_type": "text"
      },
      "source": [
        "<a href=\"https://colab.research.google.com/github/Jurbenko/my-projects/blob/master/Modules.ipynb\" target=\"_parent\"><img src=\"https://colab.research.google.com/assets/colab-badge.svg\" alt=\"Open In Colab\"/></a>"
      ]
    },
    {
      "cell_type": "markdown",
      "metadata": {
        "id": "ed0TcQSURa6Y",
        "colab_type": "text"
      },
      "source": [
        "Напишите программу, которая подключает модуль math и, используя значение числа 𝜋 из этого модуля, находит для переданного ей на стандартный ввод радиуса круга периметр этого круга и выводит его на стандартный вывод."
      ]
    },
    {
      "cell_type": "code",
      "metadata": {
        "id": "djPXiIKJQpE9",
        "colab_type": "code",
        "outputId": "25f78ca9-b66c-418d-800c-6d66f0f81562",
        "colab": {
          "base_uri": "https://localhost:8080/",
          "height": 51
        }
      },
      "source": [
        "import math\n",
        "a = float(input())\n",
        "from math import pi\n",
        "print(2*pi*a)"
      ],
      "execution_count": 0,
      "outputs": [
        {
          "output_type": "stream",
          "text": [
            "10.0\n",
            "62.83185307179586\n"
          ],
          "name": "stdout"
        }
      ]
    },
    {
      "cell_type": "markdown",
      "metadata": {
        "id": "z-1spaApRpVn",
        "colab_type": "text"
      },
      "source": [
        "Напишите программу, которая запускается из консоли и печатает значения всех переданных аргументов на экран (имя скрипта выводить не нужно). Не изменяйте порядок аргументов при выводе.\n",
        "\n",
        "Для доступа к аргументам командной строки программы подключите модуль sys и используйте переменную argv из этого модуля."
      ]
    },
    {
      "cell_type": "code",
      "metadata": {
        "id": "sXA3wyUuRevC",
        "colab_type": "code",
        "outputId": "8e396a7f-ac3d-4ba5-b7e1-717e500ae95f",
        "colab": {
          "base_uri": "https://localhost:8080/",
          "height": 34
        }
      },
      "source": [
        "import sys\n",
        "print(' '.join(sys.argv[1:]))"
      ],
      "execution_count": 0,
      "outputs": [
        {
          "output_type": "stream",
          "text": [
            "-f /root/.local/share/jupyter/runtime/kernel-b46efd00-4e74-41b8-9804-e71b281a4096.json\n"
          ],
          "name": "stdout"
        }
      ]
    },
    {
      "cell_type": "code",
      "metadata": {
        "id": "KVLJbSdUR9jf",
        "colab_type": "code",
        "colab": {
          "base_uri": "https://localhost:8080/",
          "height": 150
        },
        "outputId": "b95a2061-36da-4573-a312-1dfdd2ebf04a"
      },
      "source": [
        "Напишите программу, которая принимает на стандартный вход список игр футбольных команд с результатом матча и выводит на стандартный вывод сводную таблицу результатов всех матчей.\n",
        "\n",
        "За победу команде начисляется 3 очка, за поражение — 0, за ничью — 1.\n",
        "\n",
        "Формат ввода следующий:\n",
        "В первой строке указано целое число 𝑛\n",
        "n\n",
        " — количество завершенных игр.\n",
        "После этого идет 𝑛\n",
        "n\n",
        " строк, в которых записаны результаты игры в следующем формате:\n",
        "Первая_команда;Забито_первой_командой;Вторая_команда;Забито_второй_командой\n",
        "\n",
        "Вывод программы необходимо оформить следующим образом:\n",
        "Команда:Всего_игр Побед Ничьих Поражений Всего_очков\n",
        "\n",
        "Конкретный пример ввода-вывода приведён ниже.\n",
        "\n",
        "Порядок вывода команд произвольный."
      ],
      "execution_count": 3,
      "outputs": [
        {
          "output_type": "error",
          "ename": "SyntaxError",
          "evalue": "ignored",
          "traceback": [
            "\u001b[0;36m  File \u001b[0;32m\"<ipython-input-3-6b32453db822>\"\u001b[0;36m, line \u001b[0;32m1\u001b[0m\n\u001b[0;31m    Напишите программу, которая принимает на стандартный вход список игр футбольных команд с результатом матча и выводит на стандартный вывод сводную таблицу результатов всех матчей.\u001b[0m\n\u001b[0m                     ^\u001b[0m\n\u001b[0;31mSyntaxError\u001b[0m\u001b[0;31m:\u001b[0m invalid syntax\n"
          ]
        }
      ]
    },
    {
      "cell_type": "code",
      "metadata": {
        "id": "8syFhIsRXUSE",
        "colab_type": "code",
        "colab": {
          "base_uri": "https://localhost:8080/",
          "height": 136
        },
        "outputId": "0a9c4ef6-382d-43a3-943c-8780f5aea59c"
      },
      "source": [
        "games = int(input())\n",
        "results = {}\n",
        "for n in range(games):\n",
        "    line = input()\n",
        "    line = line.split(\";\")\n",
        "    for i in range(0,3,2):\n",
        "        if line[i] not in results:\n",
        "            results[line[i]] = [1, 0, 0, 0, 0]\n",
        "        else:\n",
        "            results[line[i]][0] += 1\n",
        "    if line[1] > line[3]:\n",
        "        results[line[0]][1] += 1\n",
        "        results[line[2]][3] += 1\n",
        "    elif line[1] == line[3]:\n",
        "        results[line[0]][2] += 1\n",
        "        results[line[2]][2] += 1\n",
        "    else:\n",
        "        results[line[0]][3] += 1\n",
        "        results[line[2]][1] += 1\n",
        "\n",
        "for team, res in results.items():\n",
        "    res[4] = res[1]*3 + res[2]\n",
        "    print(team+\":\", res[0], res[1], res[2], res[3], res[4])"
      ],
      "execution_count": 4,
      "outputs": [
        {
          "output_type": "stream",
          "text": [
            "3\n",
            "Зенит;3;Спартак;1\n",
            "Спартак;1;ЦСКА;1\n",
            "ЦСКА;0;Зенит;2\n",
            "Зенит: 2 2 0 0 6\n",
            "Спартак: 2 0 1 1 1\n",
            "ЦСКА: 2 0 1 1 1\n"
          ],
          "name": "stdout"
        }
      ]
    },
    {
      "cell_type": "markdown",
      "metadata": {
        "id": "v_3oc4arXvbC",
        "colab_type": "text"
      },
      "source": [
        "В какой-то момент в Институте биоинформатики биологи перестали понимать, что говорят информатики: они говорили каким-то странным набором звуков. \n",
        "В какой-то момент один из биологов раскрыл секрет информатиков: они использовали при общении подстановочный шифр, т.е. заменяли каждый символ исходного сообщения на соответствующий ему другой символ. Биологи раздобыли ключ к шифру и теперь нуждаются в помощи: \n",
        "Напишите программу, которая умеет шифровать и расшифровывать шифр подстановки. Программа принимает на вход две строки одинаковой длины, на первой строке записаны символы исходного алфавита, на второй строке — символы конечного алфавита, после чего идёт строка, которую нужно зашифровать переданным ключом, и ещё одна строка, которую нужно расшифровать.\n",
        "Пусть, например, на вход программе передано:\n",
        "abcd\n",
        "*d%#\n",
        "abacabadaba\n",
        "#*%*d*%\n",
        "Это значит, что символ a исходного сообщения заменяется на символ * в шифре, b заменяется на d, c — на % и d — на #.\n",
        "Нужно зашифровать строку abacabadaba и расшифровать строку #*%*d*% с помощью этого шифра. Получаем следующие строки, которые и передаём на вывод программы:\n",
        "*d*%*d*#*d*\n",
        "dacabac"
      ]
    },
    {
      "cell_type": "code",
      "metadata": {
        "id": "6n6yZfChXclT",
        "colab_type": "code",
        "colab": {
          "base_uri": "https://localhost:8080/",
          "height": 119
        },
        "outputId": "3b5add22-f17a-44b5-980b-e4576182c5e0"
      },
      "source": [
        "s=str(input())\n",
        "a=[]\n",
        "for i in range(len(s)):\n",
        "    si=s[i]\n",
        "    a.append(si)\n",
        "b=[]\n",
        "n=str(input())\n",
        "for j in range(len(n)):\n",
        "    sj=n[j]\n",
        "    b.append(sj)\n",
        "p={}\n",
        "for pi in range(len(s)):\n",
        "    key=s[pi]\n",
        "    p[key]=0\n",
        "j1=0\n",
        "for i in range(0,len(a)):\n",
        "    key=a[i]\n",
        "    while j1<len(b):\n",
        "        bj=b[0]\n",
        "        if key in p:\n",
        "            p[key]=bj\n",
        "        b.remove(bj)\n",
        "        break\n",
        "c=[]\n",
        "si=str(input())\n",
        "\n",
        "for si1 in range(0,len(si)):\n",
        "    ci=si[si1]\n",
        "    c.append(ci)\n",
        "\n",
        "co=[]\n",
        "\n",
        "for ci in range(0,len(c)):\n",
        "    if c[ci] in p:\n",
        "        cco=c[ci]\n",
        "        pco=p[cco]\n",
        "        co.append(pco)\n",
        "\n",
        "d=[]\n",
        "\n",
        "di=str(input())\n",
        "\n",
        "for sj1 in range(0,len(di)):\n",
        "    dj=di[sj1]\n",
        "    d.append(dj)\n",
        "\n",
        "do=[]\n",
        "\n",
        "for di in range(0,len(d)):\n",
        "    for key in p:\n",
        "        pkey=key\n",
        "        if p.get(key) == d[di]:\n",
        "            ddo=pkey\n",
        "            do.append(ddo)\n",
        "\n",
        "for i in range (0,len(co)):\n",
        "    print(co[i],end='')\n",
        "print()\n",
        "\n",
        "for j in range (0,len(do)):\n",
        "    print(do[j],end='')"
      ],
      "execution_count": 6,
      "outputs": [
        {
          "output_type": "stream",
          "text": [
            "abcd\n",
            "*d%#\n",
            "abacabadaba\n",
            "#*%*d*%\n",
            "*d*%*d*#*d*\n",
            "dacabac"
          ],
          "name": "stdout"
        }
      ]
    },
    {
      "cell_type": "markdown",
      "metadata": {
        "id": "oXx-b-_fYIAD",
        "colab_type": "text"
      },
      "source": [
        "Простейшая система проверки орфографии основана на использовании списка известных слов. Каждое слово в проверяемом тексте ищется в этом списке и, если такое слово не найдено, оно помечается, как ошибочное.\n",
        "Напишем подобную систему.\n",
        "Через стандартный ввод подаётся следующая структура: первой строкой — количество dd записей в списке известных слов, после передаётся  dd строк с одним словарным словом на строку, затем — количество ll строк текста, после чего — ll строк текста.\n",
        "Напишите программу, которая выводит слова из текста, которые не встречаются в словаре. Регистр слов не учитывается. Порядок вывода слов произвольный. Слова, не встречающиеся в словаре, не должны повторяться в выводе программы."
      ]
    },
    {
      "cell_type": "code",
      "metadata": {
        "id": "P2ji70ANX1lr",
        "colab_type": "code",
        "colab": {
          "base_uri": "https://localhost:8080/",
          "height": 204
        },
        "outputId": "d7d889a4-5db0-495e-bb66-41f57ed773f4"
      },
      "source": [
        "known = set()\n",
        "unknown = set()\n",
        "\n",
        "for _ in range(int(input())):\n",
        "    known.add(input().strip().lower())\n",
        "\n",
        "for _ in range(int(input())):\n",
        "    for word in input().strip().lower().split():\n",
        "        if word not in known:\n",
        "            unknown.add(word)\n",
        "\n",
        "for word in unknown:\n",
        "    print(word)"
      ],
      "execution_count": 7,
      "outputs": [
        {
          "output_type": "stream",
          "text": [
            "3\n",
            "a\n",
            "bb\n",
            "cCc\n",
            "2\n",
            "a bb aab aba ccc\n",
            "c bb aaa\n",
            "aba\n",
            "c\n",
            "aab\n",
            "aaa\n"
          ],
          "name": "stdout"
        }
      ]
    },
    {
      "cell_type": "markdown",
      "metadata": {
        "id": "lmK-DLsaYW2l",
        "colab_type": "text"
      },
      "source": [
        "Группа биологов в институте биоинформатики завела себе черепашку.\n",
        "После дрессировки черепашка научилась понимать и запоминать указания биологов следующего вида:\n",
        "север 10\n",
        "запад 20\n",
        "юг 30\n",
        "восток 40\n",
        "где первое слово — это направление, в котором должна двигаться черепашка, а число после слова — это положительное расстояние в сантиметрах, которое должна пройти черепашка.\n",
        "Но команды даются быстро, а черепашка ползёт медленно, и программисты догадались, что можно написать программу, которая определит, куда в итоге биологи приведут черепашку. Для этого программисты просят вас написать программу, которая выведет точку, в которой окажется черепашка после всех команд. Для простоты они решили считать, что движение начинается в точке (0, 0), и движение на восток увеличивает первую координату, а на север — вторую.\n",
        "Программе подаётся на вход число команд nn, которые нужно выполнить черепашке, после чего nn строк с самими командами. Вывести нужно два числа в одну строку: первую и вторую координату конечной точки черепашки. Все координаты целочисленные.\n"
      ]
    },
    {
      "cell_type": "code",
      "metadata": {
        "id": "UHu37NX5YLaA",
        "colab_type": "code",
        "colab": {
          "base_uri": "https://localhost:8080/",
          "height": 119
        },
        "outputId": "f42abe82-4de5-4fce-9826-faa34003c703"
      },
      "source": [
        "n = int(input())\n",
        "pos = [0,0]\n",
        "for i in range(n):\n",
        "    cmd = input()\n",
        "    ls = cmd.split()\n",
        "    if ls[0] == \"север\":\n",
        "        pos[1] += int(ls[1])\n",
        "    elif ls[0] == \"запад\":\n",
        "        pos[0] -= int(ls[1])\n",
        "    elif ls[0] == \"юг\":\n",
        "        pos[1] -= int(ls[1])\n",
        "    elif ls[0] == \"восток\":\n",
        "        pos[0] += int(ls[1])\n",
        "\n",
        "print(pos[0],pos[1])"
      ],
      "execution_count": 9,
      "outputs": [
        {
          "output_type": "stream",
          "text": [
            "4\n",
            "север 10\n",
            "запад 20\n",
            "юг 30\n",
            "восток 40\n",
            "20 -20\n"
          ],
          "name": "stdout"
        }
      ]
    },
    {
      "cell_type": "markdown",
      "metadata": {
        "id": "yXNgtOhkYq6F",
        "colab_type": "text"
      },
      "source": [
        "Дан файл с таблицей в формате TSV с информацией о росте школьников разных классов.\n",
        "Напишите программу, которая прочитает этот файл и подсчитает для каждого класса средний рост учащегося.\n",
        "Файл состоит из набора строк, каждая из которых представляет собой три поля:\n",
        "Класс Фамилия Рост\n",
        "Класс обозначается только числом. Буквенные модификаторы не используются. Номер класса может быть от 1 до 11 включительно. В фамилии нет пробелов, а в качестве роста используется натуральное число, но при подсчёте среднего требуется вычислить значение в виде вещественного числа.\n",
        "Выводить информацию о среднем росте следует в порядке возрастания номера класса (для классов с первого по одиннадцатый). Если про какой-то класс нет информации, необходимо вывести напротив него прочерк, например:\n"
      ]
    },
    {
      "cell_type": "code",
      "metadata": {
        "id": "H9btiJBlYqBg",
        "colab_type": "code",
        "colab": {
          "base_uri": "https://localhost:8080/",
          "height": 232
        },
        "outputId": "3656344d-3f49-4d34-9e0a-e095faceaedc"
      },
      "source": [
        "setClasses = tuple(str(i) for i in range(1, 12))\n",
        "dictHeight = dict.fromkeys(setClasses, 0)\n",
        "dictCount = dict.fromkeys(setClasses, 0)\n",
        "\n",
        "with open('/Users/anastasiazurbenko/Downloads/dataset_3380_5.txt', encoding='UTF-8') as inf:\n",
        "    for line in inf:\n",
        "        lst = line.strip().split('\\t')\n",
        "        dictHeight[lst[0]] += float(lst[2])\n",
        "        dictCount[lst[0]] += 1\n",
        "\n",
        "for i in setClasses:\n",
        "    if dictHeight[i] == 0:\n",
        "        d = '-'\n",
        "    else:\n",
        "        d = str(dictHeight[i] / dictCount[i])\n",
        "    print(i + ' ' + d)"
      ],
      "execution_count": 11,
      "outputs": [
        {
          "output_type": "error",
          "ename": "FileNotFoundError",
          "evalue": "ignored",
          "traceback": [
            "\u001b[0;31m---------------------------------------------------------------------------\u001b[0m",
            "\u001b[0;31mFileNotFoundError\u001b[0m                         Traceback (most recent call last)",
            "\u001b[0;32m<ipython-input-11-1afa432e208d>\u001b[0m in \u001b[0;36m<module>\u001b[0;34m()\u001b[0m\n\u001b[1;32m      3\u001b[0m \u001b[0mdictCount\u001b[0m \u001b[0;34m=\u001b[0m \u001b[0mdict\u001b[0m\u001b[0;34m.\u001b[0m\u001b[0mfromkeys\u001b[0m\u001b[0;34m(\u001b[0m\u001b[0msetClasses\u001b[0m\u001b[0;34m,\u001b[0m \u001b[0;36m0\u001b[0m\u001b[0;34m)\u001b[0m\u001b[0;34m\u001b[0m\u001b[0;34m\u001b[0m\u001b[0m\n\u001b[1;32m      4\u001b[0m \u001b[0;34m\u001b[0m\u001b[0m\n\u001b[0;32m----> 5\u001b[0;31m \u001b[0;32mwith\u001b[0m \u001b[0mopen\u001b[0m\u001b[0;34m(\u001b[0m\u001b[0;34m'/Users/anastasiazurbenko/Downloads/dataset_3380_5.txt'\u001b[0m\u001b[0;34m,\u001b[0m \u001b[0mencoding\u001b[0m\u001b[0;34m=\u001b[0m\u001b[0;34m'UTF-8'\u001b[0m\u001b[0;34m)\u001b[0m \u001b[0;32mas\u001b[0m \u001b[0minf\u001b[0m\u001b[0;34m:\u001b[0m\u001b[0;34m\u001b[0m\u001b[0;34m\u001b[0m\u001b[0m\n\u001b[0m\u001b[1;32m      6\u001b[0m     \u001b[0;32mfor\u001b[0m \u001b[0mline\u001b[0m \u001b[0;32min\u001b[0m \u001b[0minf\u001b[0m\u001b[0;34m:\u001b[0m\u001b[0;34m\u001b[0m\u001b[0;34m\u001b[0m\u001b[0m\n\u001b[1;32m      7\u001b[0m         \u001b[0mlst\u001b[0m \u001b[0;34m=\u001b[0m \u001b[0mline\u001b[0m\u001b[0;34m.\u001b[0m\u001b[0mstrip\u001b[0m\u001b[0;34m(\u001b[0m\u001b[0;34m)\u001b[0m\u001b[0;34m.\u001b[0m\u001b[0msplit\u001b[0m\u001b[0;34m(\u001b[0m\u001b[0;34m'\\t'\u001b[0m\u001b[0;34m)\u001b[0m\u001b[0;34m\u001b[0m\u001b[0;34m\u001b[0m\u001b[0m\n",
            "\u001b[0;31mFileNotFoundError\u001b[0m: [Errno 2] No such file or directory: '/Users/anastasiazurbenko/Downloads/dataset_3380_5.txt'"
          ]
        }
      ]
    },
    {
      "cell_type": "code",
      "metadata": {
        "id": "4uq_QXVEY9JT",
        "colab_type": "code",
        "colab": {}
      },
      "source": [
        ""
      ],
      "execution_count": 0,
      "outputs": []
    }
  ]
}
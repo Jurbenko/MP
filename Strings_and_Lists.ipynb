{
  "nbformat": 4,
  "nbformat_minor": 0,
  "metadata": {
    "colab": {
      "name": "Strings and Lists.ipynb",
      "provenance": [],
      "collapsed_sections": [],
      "include_colab_link": true
    },
    "kernelspec": {
      "name": "python3",
      "display_name": "Python 3"
    }
  },
  "cells": [
    {
      "cell_type": "markdown",
      "metadata": {
        "id": "view-in-github",
        "colab_type": "text"
      },
      "source": [
        "<a href=\"https://colab.research.google.com/github/Jurbenko/my-projects/blob/master/Strings_and_Lists.ipynb\" target=\"_parent\"><img src=\"https://colab.research.google.com/assets/colab-badge.svg\" alt=\"Open In Colab\"/></a>"
      ]
    },
    {
      "cell_type": "code",
      "metadata": {
        "id": "v9NI9XF7K8Cy",
        "colab_type": "code",
        "outputId": "76d3ebd4-a804-49e1-89c3-7b526bb2d886",
        "colab": {
          "base_uri": "https://localhost:8080/",
          "height": 85
        }
      },
      "source": [
        "genome='ATGC'\n",
        "for c in genome:\n",
        "  print(c)"
      ],
      "execution_count": 0,
      "outputs": [
        {
          "output_type": "stream",
          "text": [
            "A\n",
            "T\n",
            "G\n",
            "C\n"
          ],
          "name": "stdout"
        }
      ]
    },
    {
      "cell_type": "markdown",
      "metadata": {
        "id": "cMoVveWkLsEm",
        "colab_type": "text"
      },
      "source": [
        "Сколько раз в строчке встречается символ \"C\":"
      ]
    },
    {
      "cell_type": "code",
      "metadata": {
        "id": "Gub4isrrLSzv",
        "colab_type": "code",
        "outputId": "1225a530-6193-4ba2-f33d-d63186608d36",
        "colab": {
          "base_uri": "https://localhost:8080/",
          "height": 51
        }
      },
      "source": [
        "genome=input()\n",
        "cnt=0\n",
        "for nucl in genome:\n",
        "  if nucl=='C':\n",
        "    cnt+=1\n",
        "print(cnt)"
      ],
      "execution_count": 0,
      "outputs": [
        {
          "output_type": "stream",
          "text": [
            "GATCCCCCCGATCGTA\n",
            "7\n"
          ],
          "name": "stdout"
        }
      ]
    },
    {
      "cell_type": "code",
      "metadata": {
        "id": "fPtZeGweMVfy",
        "colab_type": "code",
        "outputId": "f665f6ac-863e-4821-e026-d5763cecd3a1",
        "colab": {
          "base_uri": "https://localhost:8080/",
          "height": 51
        }
      },
      "source": [
        "genome=input()\n",
        "print(genome.count('C'))"
      ],
      "execution_count": 0,
      "outputs": [
        {
          "output_type": "stream",
          "text": [
            "ATCGGGCTTTGCCCAT\n",
            "5\n"
          ],
          "name": "stdout"
        }
      ]
    },
    {
      "cell_type": "markdown",
      "metadata": {
        "id": "VZK1CcQePq7e",
        "colab_type": "text"
      },
      "source": [
        "GC-состав является важной характеристикой геномных последовательностей и определяется как процентное соотношение суммы всех гуанинов и цитозинов к общему числу нуклеиновых оснований в геномной последовательности. \n",
        "\n",
        "Напишите программу, которая вычисляет процентное содержание символов G (гуанин) и C (цитозин) в введенной строке (программа не должна зависеть от регистра вводимых символов).\n",
        "\n",
        "Например, в строке \"acggtgttat\" процентное содержание символов G и C равно 410⋅100=40.0, где 4 -- это количество символов G и C,  а 10 -- это длина строки.\n",
        "\n",
        "Решение:"
      ]
    },
    {
      "cell_type": "code",
      "metadata": {
        "id": "JR95uitsMrPS",
        "colab_type": "code",
        "outputId": "841c421a-c7dc-42c3-c764-2ce032fec945",
        "colab": {
          "base_uri": "https://localhost:8080/",
          "height": 51
        }
      },
      "source": [
        "s=input().upper()\n",
        "i=s.count('C')\n",
        "m=s.count('G')\n",
        "n=len(genome)\n",
        "print(((i+m)/n)*100)"
      ],
      "execution_count": 0,
      "outputs": [
        {
          "output_type": "stream",
          "text": [
            "acggtgttat\n",
            "40.0\n"
          ],
          "name": "stdout"
        }
      ]
    },
    {
      "cell_type": "markdown",
      "metadata": {
        "id": "unnh8aq7RGHh",
        "colab_type": "text"
      },
      "source": [
        "Читается ли одинаково строка слева направо и справа налево (является палиндромом):"
      ]
    },
    {
      "cell_type": "code",
      "metadata": {
        "id": "FmafUPfrPR2n",
        "colab_type": "code",
        "outputId": "dd4a412e-ed2b-436a-a081-211ccb549e51",
        "colab": {
          "base_uri": "https://localhost:8080/",
          "height": 51
        }
      },
      "source": [
        "s=input()\n",
        "i=0\n",
        "j=len(s)-1\n",
        "is_palindrom=True\n",
        "while i<j:\n",
        "  if s[i]!=s[j]:\n",
        "    is_palindrom=False\n",
        "    break\n",
        "  i+=1\n",
        "  j-=1\n",
        "if is_palindrom:\n",
        "  print('YES')\n",
        "else:\n",
        "  print('NO')"
      ],
      "execution_count": 0,
      "outputs": [
        {
          "output_type": "stream",
          "text": [
            "asdsa\n",
            "YES\n"
          ],
          "name": "stdout"
        }
      ]
    },
    {
      "cell_type": "code",
      "metadata": {
        "id": "mcgKUmACS98v",
        "colab_type": "code",
        "outputId": "f9c212aa-3f94-49bc-db1b-927dc1bd6f87",
        "colab": {
          "base_uri": "https://localhost:8080/",
          "height": 51
        }
      },
      "source": [
        "s=input()\n",
        "r=s[::-1]\n",
        "if s==r:\n",
        "  print('YES')\n",
        "else:\n",
        "  print('NO')"
      ],
      "execution_count": 0,
      "outputs": [
        {
          "output_type": "stream",
          "text": [
            "ASDDSA\n",
            "YES\n"
          ],
          "name": "stdout"
        }
      ]
    },
    {
      "cell_type": "markdown",
      "metadata": {
        "id": "WUCQSjFVUFn7",
        "colab_type": "text"
      },
      "source": [
        "Узнав, что ДНК не является случайной строкой, только что поступившие в Институт биоинформатики студенты группы информатиков предложили использовать алгоритм сжатия, который сжимает повторяющиеся символы в строке.\n",
        "\n",
        "Кодирование осуществляется следующим образом:\n",
        "s = 'aaaabbсaa' преобразуется в 'a4b2с1a2', то есть группы одинаковых символов исходной строки заменяются на этот символ и количество его повторений в этой позиции строки.\n",
        "\n",
        "Напишите программу, которая считывает строку, кодирует её предложенным алгоритмом и выводит закодированную последовательность на стандартный вывод. Кодирование должно учитывать регистр символов.\n",
        "\n",
        "Решение:"
      ]
    },
    {
      "cell_type": "code",
      "metadata": {
        "id": "CVli4JW2TUbE",
        "colab_type": "code",
        "outputId": "515a9ceb-7732-45e6-f3a5-2ebeed5d83a7",
        "colab": {
          "base_uri": "https://localhost:8080/",
          "height": 51
        }
      },
      "source": [
        "s = str(input())\n",
        "l = len(s)-1\n",
        "c = 1\n",
        "t = ''\n",
        "if len(s)==1:\n",
        "    t = t +s+str(c)\n",
        "else:\n",
        "    for i in range(0,l):\n",
        "        if s[i]==s[i+1]:\n",
        "            c +=1\n",
        "        elif s[i]!=s[i+1]:\n",
        "            t = t + s[i]+str(c)\n",
        "            c = 1\n",
        "    for j in range(l,l+1):\n",
        "        if s[-1]==s[-2]:\n",
        "            t = t +s[j]+str(c)\n",
        "        elif s[-1]!=s[-2]:\n",
        "            t = t +s[j]+str(c)\n",
        "            c = 1\n",
        "print(t)"
      ],
      "execution_count": 0,
      "outputs": [
        {
          "output_type": "stream",
          "text": [
            "aaaabbcaa\n",
            "a4b2c1a2\n"
          ],
          "name": "stdout"
        }
      ]
    },
    {
      "cell_type": "markdown",
      "metadata": {
        "id": "3tUI08X3jgHE",
        "colab_type": "text"
      },
      "source": [
        "Списки"
      ]
    },
    {
      "cell_type": "code",
      "metadata": {
        "id": "t717Lj_PVWqC",
        "colab_type": "code",
        "outputId": "d9f2efef-3bfa-4ce7-a3a4-ce6a77089249",
        "colab": {
          "base_uri": "https://localhost:8080/",
          "height": 68
        }
      },
      "source": [
        "students=['Ivan','Masha','Sasha']\n",
        "for student in students:\n",
        "  print(\"Hello,\",student+\"!\")"
      ],
      "execution_count": 0,
      "outputs": [
        {
          "output_type": "stream",
          "text": [
            "Hello, Ivan!\n",
            "Hello, Masha!\n",
            "Hello, Sasha!\n"
          ],
          "name": "stdout"
        }
      ]
    },
    {
      "cell_type": "markdown",
      "metadata": {
        "id": "tOiSWzhVpgys",
        "colab_type": "text"
      },
      "source": [
        "Напишите программу, на вход которой подается одна строка с целыми числами. Программа должна вывести сумму этих чисел.\n",
        "\n",
        "Используйте метод split строки. ﻿﻿\n",
        "\n",
        "Решение:"
      ]
    },
    {
      "cell_type": "code",
      "metadata": {
        "id": "ypfkMvU1j4iQ",
        "colab_type": "code",
        "outputId": "93bb4c25-f042-48aa-d490-a633b023da4d",
        "colab": {
          "base_uri": "https://localhost:8080/",
          "height": 51
        }
      },
      "source": [
        "s = 0\n",
        "for i in input().split():\n",
        "    s += int(i)\n",
        "print(s)"
      ],
      "execution_count": 0,
      "outputs": [
        {
          "output_type": "stream",
          "text": [
            "4 -1 9 3\n",
            "15\n"
          ],
          "name": "stdout"
        }
      ]
    },
    {
      "cell_type": "markdown",
      "metadata": {
        "id": "ABu1ucSJLnMu",
        "colab_type": "text"
      },
      "source": [
        "Напишите программу, на вход которой подаётся список чисел одной строкой. Программа должна для каждого элемента этого списка вывести сумму двух его соседей. Для элементов списка, являющихся крайними, одним из соседей считается элемент, находящий на противоположном конце этого списка. Например, если на вход подаётся список \"1 3 5 6 10\", то на выход ожидается список \"13 6 9 15 7\" (без кавычек).\n",
        "\n",
        "Если на вход пришло только одно число, надо вывести его же.\n",
        "\n",
        "Вывод должен содержать одну строку с числами нового списка, разделёнными пробелом."
      ]
    },
    {
      "cell_type": "code",
      "metadata": {
        "id": "COuqIwQxMRyZ",
        "colab_type": "code",
        "outputId": "8c31ddab-b582-4a72-b350-8ea3241963eb",
        "colab": {
          "base_uri": "https://localhost:8080/",
          "height": 51
        }
      },
      "source": [
        "lst= [int(i) for i in input().split()]\n",
        "if len(lst) == 1:\n",
        "        print(lst[0])\n",
        "else:\n",
        "    for i in range(len(lst)):\n",
        "        print(lst[i-1] + lst[i+1-len(lst)], end=' ')"
      ],
      "execution_count": 0,
      "outputs": [
        {
          "output_type": "stream",
          "text": [
            "10 12\n",
            "24 20 "
          ],
          "name": "stdout"
        }
      ]
    },
    {
      "cell_type": "markdown",
      "metadata": {
        "id": "BlTio5XWGc2w",
        "colab_type": "text"
      },
      "source": [
        "Напишите программу, которая принимает на вход список чисел в одной строке и выводит на экран в одну строку значения, которые повторяются в нём более одного раза.\n",
        "\n",
        "Для решения задачи может пригодиться метод sort списка.\n",
        "\n",
        "Выводимые числа не должны повторяться, порядок их вывода может быть произвольным."
      ]
    },
    {
      "cell_type": "code",
      "metadata": {
        "id": "TjhYvLOWGgA9",
        "colab_type": "code",
        "colab": {
          "base_uri": "https://localhost:8080/",
          "height": 51
        },
        "outputId": "1eda044b-59ac-41cd-ff4b-7734bc36f96d"
      },
      "source": [
        "ls = [int(i) for i in input().split()]\n",
        "for i in set(ls):\n",
        "    if ls.count(i) > 1:\n",
        "        print(i, end=' ')"
      ],
      "execution_count": 3,
      "outputs": [
        {
          "output_type": "stream",
          "text": [
            "5 6 7 4 5 7 4 6 \n",
            "4 5 6 7 "
          ],
          "name": "stdout"
        }
      ]
    },
    {
      "cell_type": "code",
      "metadata": {
        "id": "fulWF1G7xJKg",
        "colab_type": "code",
        "colab": {}
      },
      "source": [
        ""
      ],
      "execution_count": 0,
      "outputs": []
    }
  ]
}
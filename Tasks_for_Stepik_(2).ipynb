{
  "nbformat": 4,
  "nbformat_minor": 0,
  "metadata": {
    "colab": {
      "name": "Tasks for Stepik (2).ipynb",
      "provenance": [],
      "collapsed_sections": [],
      "include_colab_link": true
    },
    "kernelspec": {
      "name": "python3",
      "display_name": "Python 3"
    }
  },
  "cells": [
    {
      "cell_type": "markdown",
      "metadata": {
        "id": "view-in-github",
        "colab_type": "text"
      },
      "source": [
        "<a href=\"https://colab.research.google.com/github/Jurbenko/my-projects/blob/master/Tasks_for_Stepik_(2).ipynb\" target=\"_parent\"><img src=\"https://colab.research.google.com/assets/colab-badge.svg\" alt=\"Open In Colab\"/></a>"
      ]
    },
    {
      "cell_type": "markdown",
      "metadata": {
        "id": "w4Wer5hmL8QV",
        "colab_type": "text"
      },
      "source": [
        "1. Найти минимум из списка чисел:"
      ]
    },
    {
      "cell_type": "code",
      "metadata": {
        "id": "8o8fqmI3KlzK",
        "colab_type": "code",
        "colab": {
          "base_uri": "https://localhost:8080/",
          "height": 51
        },
        "outputId": "f5ebe03a-294c-4b20-fdf6-2efd7da5750d"
      },
      "source": [
        "a=[int(i) for i in input().split()]\n",
        "m=a[0]\n",
        "for x in a:\n",
        "  if m>x:\n",
        "    m=x\n",
        "print(m)"
      ],
      "execution_count": 1,
      "outputs": [
        {
          "output_type": "stream",
          "text": [
            "5 8 4 3 5 7\n",
            "3\n"
          ],
          "name": "stdout"
        }
      ]
    },
    {
      "cell_type": "markdown",
      "metadata": {
        "id": "PKkk7_tXPcHw",
        "colab_type": "text"
      },
      "source": [
        "2. Сапёр:"
      ]
    },
    {
      "cell_type": "code",
      "metadata": {
        "id": "Xzp68uSJL4T4",
        "colab_type": "code",
        "colab": {
          "base_uri": "https://localhost:8080/",
          "height": 187
        },
        "outputId": "3854d47f-bbc6-4a73-85af-12c8f7d439c8"
      },
      "source": [
        "n,m,k=(int(i) for i in input().split())\n",
        "a=[[0 for j in range(m)] for i in range(n)]\n",
        "for i in range(k):\n",
        "  row,col=(int(i)-1 for i in input().split())\n",
        "  a[row][col]=-1\n",
        "for i in range(n):\n",
        "  for j in range(m):\n",
        "    if a[i][j]==0:\n",
        "      for di in range(-1,2):\n",
        "        for dj in range(-1,2):\n",
        "          ai=i+di\n",
        "          aj=j+dj\n",
        "          #(ai, aj)\n",
        "          if 0<=ai<n and 0<=aj<m and a[ai][aj]==-1:\n",
        "            a[i][j]+=1\n",
        "for i in range(n):\n",
        "  for j in range(m):\n",
        "    if a[i][j]==-1:\n",
        "      print('*',end='')\n",
        "    elif a[i][j]==0:\n",
        "      print('.',end='')\n",
        "    else:\n",
        "      print(a[i][j],end='')\n",
        "  print()\n",
        "      "
      ],
      "execution_count": 5,
      "outputs": [
        {
          "output_type": "stream",
          "text": [
            "5 4 4\n",
            "1 1\n",
            "2 2\n",
            "3 2\n",
            "4 4\n",
            "*21.\n",
            "3*2.\n",
            "2*31\n",
            "112*\n",
            "..11\n"
          ],
          "name": "stdout"
        }
      ]
    },
    {
      "cell_type": "markdown",
      "metadata": {
        "id": "gkgV1waYXgu-",
        "colab_type": "text"
      },
      "source": [
        "3. Напишите программу, которая считывает с консоли числа (по одному в строке) до тех пор, пока сумма введённых чисел не будет равна 0 и сразу после этого выводит сумму квадратов всех считанных чисел.\n",
        "\n",
        "Гарантируется, что в какой-то момент сумма введённых чисел окажется равной 0, после этого считывание продолжать не нужно.\n",
        "\n",
        "В примере мы считываем числа 1, -3, 5, -6, -10, 13; в этот момент замечаем, что сумма этих чисел равна нулю и выводим сумму их квадратов, не обращая внимания на то, что остались ещё не прочитанные значения."
      ]
    },
    {
      "cell_type": "code",
      "metadata": {
        "id": "hcdJ6BZEP6gk",
        "colab_type": "code",
        "colab": {
          "base_uri": "https://localhost:8080/",
          "height": 136
        },
        "outputId": "02f9654e-a85a-417c-8aee-b4ca0f464fc2"
      },
      "source": [
        "s = 0\n",
        "z = 0\n",
        "while True:\n",
        "  a = int(input())\n",
        "  s += a\n",
        "  z += (a**2)\n",
        "  if s == 0:\n",
        "    break\n",
        "print(z)"
      ],
      "execution_count": 6,
      "outputs": [
        {
          "output_type": "stream",
          "text": [
            "1\n",
            "-3\n",
            "5\n",
            "-6\n",
            "-10\n",
            "13\n",
            "340\n"
          ],
          "name": "stdout"
        }
      ]
    },
    {
      "cell_type": "markdown",
      "metadata": {
        "id": "0gREvQ6FYREY",
        "colab_type": "text"
      },
      "source": [
        "4. Напишите программу, которая выводит часть последовательности 1 2 2 3 3 3 4 4 4 4 5 5 5 5 5 ... (число повторяется столько раз, чему равно). На вход программе передаётся неотрицательное целое число n — столько элементов последовательности должна отобразить программа. На выходе ожидается последовательность чисел, записанных через пробел в одну строку.\n",
        "\n",
        "Например, если n = 7, то программа должна вывести 1 2 2 3 3 3 4."
      ]
    },
    {
      "cell_type": "code",
      "metadata": {
        "id": "cyWHuujxXziC",
        "colab_type": "code",
        "colab": {
          "base_uri": "https://localhost:8080/",
          "height": 51
        },
        "outputId": "d32cc3d9-301e-4323-92c1-09f4c5029cd6"
      },
      "source": [
        "n = int(input())\n",
        "a =[i for i in range(1,n+1)]\n",
        "b = []\n",
        "for i in range(0,len(a)+1):\n",
        "  b.extend([i] * i)\n",
        "for i in range(0,n):\n",
        "  print(b[i],end=' ')"
      ],
      "execution_count": 11,
      "outputs": [
        {
          "output_type": "stream",
          "text": [
            "9\n",
            "1 2 2 3 3 3 4 4 4 "
          ],
          "name": "stdout"
        }
      ]
    },
    {
      "cell_type": "markdown",
      "metadata": {
        "id": "qi0zU1nxa1WB",
        "colab_type": "text"
      },
      "source": [
        "5. Напишите программу, которая считывает список чисел lst из первой строки и число x из второй строки, которая выводит все позиции, на которых встречается число x в переданном списке lst.\n",
        "\n",
        "Позиции нумеруются с нуля, если число x не встречается в списке, вывести строку \"Отсутствует\" (без кавычек, с большой буквы).\n",
        "\n",
        "Позиции должны быть выведены в одну строку, по возрастанию абсолютного значения."
      ]
    },
    {
      "cell_type": "code",
      "metadata": {
        "id": "IcGrx9xZYt77",
        "colab_type": "code",
        "colab": {
          "base_uri": "https://localhost:8080/",
          "height": 68
        },
        "outputId": "aeff2f16-af11-48e8-cc24-b8a5c82fb5fb"
      },
      "source": [
        "lst = [int(i) for i in input().split()]\n",
        "x = int(input())\n",
        "if x not in lst:\n",
        "  print('Отсутствует')\n",
        "else:\n",
        "  for i in range(0,len(lst)):\n",
        "    if lst[i] == x:\n",
        "      print(i,end=' ')"
      ],
      "execution_count": 18,
      "outputs": [
        {
          "output_type": "stream",
          "text": [
            "5 8 8\n",
            "8\n",
            "1 2 "
          ],
          "name": "stdout"
        }
      ]
    },
    {
      "cell_type": "markdown",
      "metadata": {
        "id": "y_sHYF90hLyn",
        "colab_type": "text"
      },
      "source": [
        "6. Напишите программу, на вход которой подаётся прямоугольная матрица в виде последовательности строк, заканчивающихся строкой, содержащей только строку \"end\" (без кавычек)\n",
        "\n",
        "Программа должна вывести матрицу того же размера, у которой каждый элемент в позиции i, j равен сумме элементов первой матрицы на позициях (i-1, j), (i+1, j), (i, j-1), (i, j+1). У крайних символов соседний элемент находится с противоположной стороны матрицы.\n",
        "\n",
        "В случае одной строки/столбца элемент сам себе является соседом по соответствующему направлению."
      ]
    },
    {
      "cell_type": "code",
      "metadata": {
        "id": "PRKNT7QWba7a",
        "colab_type": "code",
        "colab": {
          "base_uri": "https://localhost:8080/",
          "height": 136
        },
        "outputId": "f5d28256-a5d8-4e9a-9ee8-ceb7085a7177"
      },
      "source": [
        "c = []\n",
        "while True:\n",
        "    a = [i for i in input().split()]\n",
        "    if a == ['end']:\n",
        "        break\n",
        "    c.append(a)\n",
        "n, m = len(c), len(c[0])\n",
        "for i in range(n):\n",
        "    for j in range(m):\n",
        "        x = int(c[i][j-1]) + int(c[i][j+1-m]) + int(c[i-1][j]) + int(c[i+1-n][j])\n",
        "        print(x, end=' ')\n",
        "    print()"
      ],
      "execution_count": 20,
      "outputs": [
        {
          "output_type": "stream",
          "text": [
            "9 5 3\n",
            "0 7 -1\n",
            "-5 2 9\n",
            "end\n",
            "3 21 22 \n",
            "10 6 19 \n",
            "20 16 -1 \n"
          ],
          "name": "stdout"
        }
      ]
    },
    {
      "cell_type": "markdown",
      "metadata": {
        "id": "go-gnvfzl-8J",
        "colab_type": "text"
      },
      "source": [
        "7. Выведите таблицу размером 𝑛×𝑛, заполненную числами от 1 до 𝑛2 по спирали, выходящей из левого верхнего угла и закрученной по часовой стрелке, как показано в примере (здесь 𝑛=5):"
      ]
    },
    {
      "cell_type": "code",
      "metadata": {
        "id": "m_5QTwsziRNn",
        "colab_type": "code",
        "colab": {
          "base_uri": "https://localhost:8080/",
          "height": 119
        },
        "outputId": "481f53ee-974f-423a-f473-e0048ab35d02"
      },
      "source": [
        "def zm(n):\n",
        "    dx, dy = 1, 0\n",
        "    x, y = 0, 0\n",
        "    arr = [[None] * n for _ in range(n)]\n",
        "    for i in range(1, n**2+1):\n",
        "        arr[x][y] = i\n",
        "        nx, ny = x+dx, y+dy\n",
        "        if 0 <= nx < n and 0 <= ny < n and not arr[nx][ny]:\n",
        "            x, y = nx, ny\n",
        "        else:\n",
        "            dx, dy = -dy, dx\n",
        "            x, y = x+dx, y+dy\n",
        "    for x in list(zip(*arr)):\n",
        "        print(*x)\n",
        " \n",
        "zm(int(input()))"
      ],
      "execution_count": 21,
      "outputs": [
        {
          "output_type": "stream",
          "text": [
            "5\n",
            "1 2 3 4 5\n",
            "16 17 18 19 6\n",
            "15 24 25 20 7\n",
            "14 23 22 21 8\n",
            "13 12 11 10 9\n"
          ],
          "name": "stdout"
        }
      ]
    },
    {
      "cell_type": "code",
      "metadata": {
        "id": "xnCvNboomTIZ",
        "colab_type": "code",
        "colab": {}
      },
      "source": [
        ""
      ],
      "execution_count": 0,
      "outputs": []
    }
  ]
}
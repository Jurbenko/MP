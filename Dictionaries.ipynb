{
  "nbformat": 4,
  "nbformat_minor": 0,
  "metadata": {
    "colab": {
      "name": "Dictionaries.ipynb",
      "provenance": [],
      "collapsed_sections": [],
      "include_colab_link": true
    },
    "kernelspec": {
      "name": "python3",
      "display_name": "Python 3"
    }
  },
  "cells": [
    {
      "cell_type": "markdown",
      "metadata": {
        "id": "view-in-github",
        "colab_type": "text"
      },
      "source": [
        "<a href=\"https://colab.research.google.com/github/Jurbenko/my-projects/blob/master/Dictionaries.ipynb\" target=\"_parent\"><img src=\"https://colab.research.google.com/assets/colab-badge.svg\" alt=\"Open In Colab\"/></a>"
      ]
    },
    {
      "cell_type": "markdown",
      "metadata": {
        "id": "gSnHL_Ob1amh",
        "colab_type": "text"
      },
      "source": [
        "Напишите функцию update_dictionary(d, key, value), которая принимает на вход словарь 𝑑 и два числа: 𝑘𝑒𝑦 и 𝑣𝑎𝑙𝑢𝑒. Если ключ 𝑘𝑒𝑦 есть в словаре 𝑑, то добавьте значение 𝑣𝑎𝑙𝑢𝑒 в список, который хранится по этому ключу.\n",
        "Если ключа 𝑘𝑒𝑦 нет в словаре, то нужно добавить значение в список по ключу 2∗𝑘𝑒𝑦. Если и ключа 2∗𝑘𝑒𝑦 нет, то нужно добавить ключ 2∗𝑘𝑒𝑦 в словарь и сопоставить ему список из переданного элемента [𝑣𝑎𝑙𝑢𝑒].\n",
        "\n",
        "Требуется реализовать только эту функцию, кода вне неё не должно быть. Функция не должна вызывать внутри себя функции input и print."
      ]
    },
    {
      "cell_type": "code",
      "metadata": {
        "id": "Y8VSHkD2zFNh",
        "colab_type": "code",
        "colab": {}
      },
      "source": [
        "def update_dictionary(d, key, value):\n",
        "    if key in d:\n",
        "        d[key].append(value)\n",
        "    elif key*2 in d:\n",
        "        d[key*2].append(value)\n",
        "    else:\n",
        "        d[key*2] = [value]"
      ],
      "execution_count": 0,
      "outputs": []
    },
    {
      "cell_type": "markdown",
      "metadata": {
        "id": "6sUrFq-4190F",
        "colab_type": "text"
      },
      "source": [
        "Когда Антон прочитал «Войну и мир», ему стало интересно, сколько слов и в каком количестве используется в этой книге.\n",
        "\n",
        "Помогите Антону написать упрощённую версию такой программы, которая сможет подсчитать слова, разделённые пробелом и вывести получившуюся статистику.\n",
        "\n",
        "Программа должна считывать одну строку со стандартного ввода и выводить для каждого уникального слова в этой строке число его повторений (без учёта регистра) в формате \"слово количество\" (см. пример вывода). \n",
        "Порядок вывода слов может быть произвольным, каждое уникальное слово﻿ должно выводиться только один раз."
      ]
    },
    {
      "cell_type": "code",
      "metadata": {
        "id": "yy6q04J91ZzP",
        "colab_type": "code",
        "colab": {
          "base_uri": "https://localhost:8080/",
          "height": 51
        },
        "outputId": "451f15fc-f516-46d2-cf54-b334f80e25d7"
      },
      "source": [
        "a=[i.lower() for i in input().split()]\n",
        "for i in set(a):\n",
        "  print(i,a.count(i))"
      ],
      "execution_count": 4,
      "outputs": [
        {
          "output_type": "stream",
          "text": [
            "a A a\n",
            "a 3\n"
          ],
          "name": "stdout"
        }
      ]
    },
    {
      "cell_type": "markdown",
      "metadata": {
        "id": "nyHe_BB-33jE",
        "colab_type": "text"
      },
      "source": [
        "Имеется реализованная функция 𝑓(𝑥), принимающая на вход целое число 𝑥, которая вычисляет некоторое целочисленое значение и возвращает его в качестве результата работы. Функция вычисляется достаточно долго, ничего не выводит на экран, не пишет в файлы и зависит только от переданного аргумента 𝑥. \n",
        "Напишите программу, которой на вход в первой строке подаётся число 𝑛 — количество значений 𝑥, для которых требуется узнать значение функции 𝑓(𝑥), после чего сами эти 𝑛 значений, каждое на отдельной строке. Программа должна после каждого введённого значения аргумента вывести соответствующие значения функции 𝑓 на отдельной строке.\n",
        "Для ускорения вычисления необходимо сохранять уже вычисленные значения функции при известных аргументах.\n",
        "Обратите внимание, что в этой задаче установлено достаточно сильное ограничение в две секунды по времени исполнения кода на тесте."
      ]
    },
    {
      "cell_type": "code",
      "metadata": {
        "id": "nR5TcUGW18Kj",
        "colab_type": "code",
        "colab": {}
      },
      "source": [
        "a = int(input())\n",
        "b = {}\n",
        "for i in range(a):\n",
        "    s=int(input())\n",
        "    if s in b.keys():\n",
        "        print(b[s])\n",
        "    else:\n",
        "        b[s]=f(s)\n",
        "        print(b[s])"
      ],
      "execution_count": 0,
      "outputs": []
    }
  ]
}
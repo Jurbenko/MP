{
  "nbformat": 4,
  "nbformat_minor": 0,
  "metadata": {
    "colab": {
      "name": "Files.ipynb",
      "provenance": [],
      "include_colab_link": true
    },
    "kernelspec": {
      "name": "python3",
      "display_name": "Python 3"
    }
  },
  "cells": [
    {
      "cell_type": "markdown",
      "metadata": {
        "id": "view-in-github",
        "colab_type": "text"
      },
      "source": [
        "<a href=\"https://colab.research.google.com/github/Jurbenko/my-projects/blob/master/Files.ipynb\" target=\"_parent\"><img src=\"https://colab.research.google.com/assets/colab-badge.svg\" alt=\"Open In Colab\"/></a>"
      ]
    },
    {
      "cell_type": "markdown",
      "metadata": {
        "id": "Fb9aq_s8AXDo",
        "colab_type": "text"
      },
      "source": [
        "На прошлой неделе мы сжимали строки, используя кодирование повторов. Теперь нашей задачей будет восстановление исходной строки обратно.\n",
        "\n",
        "Напишите программу, которая считывает из файла строку, соответствующую тексту, сжатому с помощью кодирования повторов, и производит обратную операцию, получая исходный текст.\n",
        "\n",
        "Запишите полученный текст в файл и прикрепите его, как ответ на это задание.\n",
        "\n",
        "В исходном тексте не встречаются цифры, так что код однозначно интерпретируем.\n",
        "\n",
        "Примечание. Это первое задание типа Dataset Quiz. В таких заданиях после нажатия \"Start Quiz\" у вас появляется ссылка \"download your dataset\". Используйте эту ссылку для того, чтобы загрузить файл со входными данными к себе на компьютер. Запустите вашу программу, используя этот файл в качестве входных данных. Выходной файл, который при этом у вас получится, надо отправить в качестве ответа на эту задачу. "
      ]
    },
    {
      "cell_type": "code",
      "metadata": {
        "id": "G5UG3w0m6xj9",
        "colab_type": "code",
        "colab": {
          "base_uri": "https://localhost:8080/",
          "height": 71
        },
        "outputId": "eb115cf4-8807-4b27-af8d-cfe773db139c"
      },
      "source": [
        "a = input()\n",
        "b = []\n",
        "for i in range(len(a)):\n",
        "    if a[i].lower() in 'qwertyuiopasdfghjklzxcvbnm':\n",
        "        b+=a[i]\n",
        "        a=a[:i]+\"!\"+a[i+1:]\n",
        "c=a.split('!')[1:]\n",
        "for i in range(len(b)):\n",
        "    print(b[i]*int(c[i]), end=\"\")"
      ],
      "execution_count": 4,
      "outputs": [
        {
          "output_type": "stream",
          "text": [
            "x6p20C6L5g5c6e8I2Q3i5M1w18r10K18H1A4l13F16T11j7d1l8\n",
            "xxxxxxppppppppppppppppppppCCCCCCLLLLLgggggcccccceeeeeeeeIIQQQiiiiiMwwwwwwwwwwwwwwwwwwrrrrrrrrrrKKKKKKKKKKKKKKKKKKHAAAAlllllllllllllFFFFFFFFFFFFFFFFTTTTTTTTTTTjjjjjjjdllllllll"
          ],
          "name": "stdout"
        }
      ]
    },
    {
      "cell_type": "markdown",
      "metadata": {
        "id": "Y1jh9IrLAYYc",
        "colab_type": "text"
      },
      "source": [
        "Недавно мы считали для каждого слова количество его вхождений в строку. Но на все слова может быть не так интересно смотреть, как, например, на наиболее часто используемые.\n",
        "\n",
        "Напишите программу, которая считывает текст из файла (в файле может быть больше одной строки) и выводит самое частое слово в этом тексте и через пробел то, сколько раз оно встретилось. Если таких слов несколько, вывести лексикографически первое (можно использовать оператор < для строк).\n",
        "\n",
        "В качестве ответа укажите вывод программы, а не саму программу.\n",
        "\n",
        "Слова, написанные в разных регистрах, считаются одинаковыми."
      ]
    },
    {
      "cell_type": "code",
      "metadata": {
        "id": "PY2zvZz9Edz4",
        "colab_type": "code",
        "colab": {
          "base_uri": "https://localhost:8080/",
          "height": 71
        },
        "outputId": "bfa8e94d-244d-4672-e761-fb3ea98b3dfd"
      },
      "source": [
        "s2=input().split()\n",
        "s=[str(i) for i in s2]\n",
        "count=0\n",
        "c=0\n",
        "for i in s:\n",
        "    if s.count(i)>=count:\n",
        "        count=s.count(i)\n",
        "        c=i\n",
        "print(c,str(count))"
      ],
      "execution_count": 64,
      "outputs": [
        {
          "output_type": "stream",
          "text": [
            "aZaapp c UXX aZXbT pccp UabTcpXTY XT ZUcc YdZ aZXbT UXU UXX aZUZU YcUpZdX XUUdaT UZYdcdTdY YXbYdbbb YXTUUcZ ddpZTX UabTcpXTY UXU XUUZ YXTUUcZ XcUUdY ZUpbYZ XUUdaT XYTZZbY ZcbY apZTU bcUY bXaZUUdbc UTY caZpX caT a XdbX TYUUp XaU Z UZbTUdca pb Tb pccb YYaY Tb TXcYXTpbd TX XccY pcXabadp Y cUaZUdXb TXcYXTpbd T Tb XaTYU TX Tb pddYX UbXp aUU daZZYU aTUZU aTUZU bbcTc bYbpUa UpXT UUZ ZZpaY TcUZdYpa YZb TcUZdYpa pYbZaXp pYpcaZZ ZZpaY ZUa ZadXZ pa ZadXZ cUXapYXd Tdpab dXUYaZ Tdpab Tdpab pTYYdaabb caTTpTaYa pXZYc bX bX UT Y pXZYc UT bXUT U cdZZXUpZ cdZZXUpZ XcUbUcacX p T Tcad TpY abU cYXUZY Zacc cZcdddYUc aZ aZ Xcd pXYTpb aZ cTbTaabU cTbTaabU UZUTXXa aZbTUb TZbZdX Xcd aZ YUU aZbTUb YbZYcpX ca UTTTYUYc ca TZ apX YbZYcpX Xcd pXYTpb YbZYcpX Y ZTbYcXaZX ca c pYdbT YcXXYZZ bdc Xcd p UbZ UpX dbXcYZYp bYYZZX XXdpdcdpp cUpa ddbaU bYddTYcdc UTTTYUYc bYddTYcdc pZpXcZU apX YpZYpYb XaYY pXYTpb YcXXTTXY pdc UUX dpZcdXU cY cYXbbZpd pp dcXZa cYXbbZpd acTcUYac cXXXb ZbpXbcZ ap cY ZZaTd cZZX pc aUUbd ZZ ZZaTd ZZXUdc bdTbcc bd TdcccUd aaZpZbpUp XYdXYTp aaaaccXpZ capbTcdZ pX ZbpXbcZ Z ac dpZcdXU padpUZ pdXc ZZXUdc pUTY b bUaUc cdYZd dcXZa Tbda ZZcbUaTUX Tb aaZpZbpUp cZZX TpTpaYXT\n",
            "Tb 5\n"
          ],
          "name": "stdout"
        }
      ]
    },
    {
      "cell_type": "markdown",
      "metadata": {
        "id": "5K09Vq1TN9hY",
        "colab_type": "text"
      },
      "source": [
        "Имеется файл с данными по успеваемости абитуриентов. Он представляет из себя набор строк, где в каждой строке записана следующая информация:\n",
        "\n",
        "Фамилия;Оценка_по_математике;Оценка_по_физике;Оценка_по_русскому_языку\n",
        "\n",
        "Поля внутри строки разделены точкой с запятой, оценки — целые числа.\n",
        "\n",
        "Напишите программу, которая считывает файл с подобной структурой и для каждого абитуриента выводит его среднюю оценку по этим трём предметам на отдельной строке, соответствующей этому абитуриенту.\n",
        "\n",
        "Также в конце файла, на отдельной строке, через пробел запишите средние баллы по математике, физике и русскому языку по всем абитуриентам.\n",
        "\n",
        "В качестве ответа на задание прикрепите полученный файл со средними оценками."
      ]
    },
    {
      "cell_type": "code",
      "metadata": {
        "id": "KUeP1o0lHDUD",
        "colab_type": "code",
        "colab": {
          "base_uri": "https://localhost:8080/",
          "height": 252
        },
        "outputId": "a23546ab-d5d8-4884-ce59-f4788ed1ee8d"
      },
      "source": [
        "with open('/Users/anastasiazurbenko/Downloads/dataset_3363_4.txt') as f: #Google Colab не найдёт путь до этого файла, поэтому в нём программа не работает\n",
        "    strings = [s.rstrip() for s in f.readlines()]\n",
        "otsenki = [s.split(';')[1:] for s in strings]\n",
        "for x in otsenki:\n",
        "    print(sum(map(int, x))/len(x))\n",
        "sr_mat = sum([int(x[0]) for x in otsenki]) / len(otsenki)\n",
        "sr_fiz = sum([int(x[1]) for x in otsenki]) / len(otsenki)\n",
        "sr_rus = sum([int(x[2]) for x in otsenki]) / len(otsenki)\n",
        "print(sr_mat, sr_fiz, sr_rus)"
      ],
      "execution_count": 68,
      "outputs": [
        {
          "output_type": "error",
          "ename": "FileNotFoundError",
          "evalue": "ignored",
          "traceback": [
            "\u001b[0;31m---------------------------------------------------------------------------\u001b[0m",
            "\u001b[0;31mFileNotFoundError\u001b[0m                         Traceback (most recent call last)",
            "\u001b[0;32m<ipython-input-68-8094e90d29a6>\u001b[0m in \u001b[0;36m<module>\u001b[0;34m()\u001b[0m\n\u001b[0;32m----> 1\u001b[0;31m \u001b[0;32mwith\u001b[0m \u001b[0mopen\u001b[0m\u001b[0;34m(\u001b[0m\u001b[0;34m'/Users/anastasiazurbenko/Downloads/dataset_3363_4.txt'\u001b[0m\u001b[0;34m)\u001b[0m \u001b[0;32mas\u001b[0m \u001b[0mf\u001b[0m\u001b[0;34m:\u001b[0m \u001b[0;31m#Google Colab не найдёт путь до этого файла, поэтому в нём программа не работает\u001b[0m\u001b[0;34m\u001b[0m\u001b[0;34m\u001b[0m\u001b[0m\n\u001b[0m\u001b[1;32m      2\u001b[0m     \u001b[0mstrings\u001b[0m \u001b[0;34m=\u001b[0m \u001b[0;34m[\u001b[0m\u001b[0ms\u001b[0m\u001b[0;34m.\u001b[0m\u001b[0mrstrip\u001b[0m\u001b[0;34m(\u001b[0m\u001b[0;34m)\u001b[0m \u001b[0;32mfor\u001b[0m \u001b[0ms\u001b[0m \u001b[0;32min\u001b[0m \u001b[0mf\u001b[0m\u001b[0;34m.\u001b[0m\u001b[0mreadlines\u001b[0m\u001b[0;34m(\u001b[0m\u001b[0;34m)\u001b[0m\u001b[0;34m]\u001b[0m\u001b[0;34m\u001b[0m\u001b[0;34m\u001b[0m\u001b[0m\n\u001b[1;32m      3\u001b[0m \u001b[0motsenki\u001b[0m \u001b[0;34m=\u001b[0m \u001b[0;34m[\u001b[0m\u001b[0ms\u001b[0m\u001b[0;34m.\u001b[0m\u001b[0msplit\u001b[0m\u001b[0;34m(\u001b[0m\u001b[0;34m';'\u001b[0m\u001b[0;34m)\u001b[0m\u001b[0;34m[\u001b[0m\u001b[0;36m1\u001b[0m\u001b[0;34m:\u001b[0m\u001b[0;34m]\u001b[0m \u001b[0;32mfor\u001b[0m \u001b[0ms\u001b[0m \u001b[0;32min\u001b[0m \u001b[0mstrings\u001b[0m\u001b[0;34m]\u001b[0m\u001b[0;34m\u001b[0m\u001b[0;34m\u001b[0m\u001b[0m\n\u001b[1;32m      4\u001b[0m \u001b[0;32mfor\u001b[0m \u001b[0mx\u001b[0m \u001b[0;32min\u001b[0m \u001b[0motsenki\u001b[0m\u001b[0;34m:\u001b[0m\u001b[0;34m\u001b[0m\u001b[0;34m\u001b[0m\u001b[0m\n\u001b[1;32m      5\u001b[0m     \u001b[0mprint\u001b[0m\u001b[0;34m(\u001b[0m\u001b[0msum\u001b[0m\u001b[0;34m(\u001b[0m\u001b[0mmap\u001b[0m\u001b[0;34m(\u001b[0m\u001b[0mint\u001b[0m\u001b[0;34m,\u001b[0m \u001b[0mx\u001b[0m\u001b[0;34m)\u001b[0m\u001b[0;34m)\u001b[0m\u001b[0;34m/\u001b[0m\u001b[0mlen\u001b[0m\u001b[0;34m(\u001b[0m\u001b[0mx\u001b[0m\u001b[0;34m)\u001b[0m\u001b[0;34m)\u001b[0m\u001b[0;34m\u001b[0m\u001b[0;34m\u001b[0m\u001b[0m\n",
            "\u001b[0;31mFileNotFoundError\u001b[0m: [Errno 2] No such file or directory: '/Users/anastasiazurbenko/Downloads/dataset_3363_4.txt'"
          ]
        }
      ]
    },
    {
      "cell_type": "code",
      "metadata": {
        "id": "CEbdEzntOcvn",
        "colab_type": "code",
        "colab": {}
      },
      "source": [
        ""
      ],
      "execution_count": 0,
      "outputs": []
    }
  ]
}
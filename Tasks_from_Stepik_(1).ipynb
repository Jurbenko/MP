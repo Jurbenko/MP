{
  "nbformat": 4,
  "nbformat_minor": 0,
  "metadata": {
    "colab": {
      "name": "Tasks from Stepik (1).ipynb",
      "version": "0.3.2",
      "provenance": [],
      "collapsed_sections": [],
      "include_colab_link": true
    },
    "kernelspec": {
      "name": "python3",
      "display_name": "Python 3"
    }
  },
  "cells": [
    {
      "cell_type": "markdown",
      "metadata": {
        "id": "view-in-github",
        "colab_type": "text"
      },
      "source": [
        "<a href=\"https://colab.research.google.com/github/Jurbenko/my-projects/blob/master/Tasks_from_Stepik_(1).ipynb\" target=\"_parent\"><img src=\"https://colab.research.google.com/assets/colab-badge.svg\" alt=\"Open In Colab\"/></a>"
      ]
    },
    {
      "cell_type": "markdown",
      "metadata": {
        "id": "sBA0SMrt26hS",
        "colab_type": "text"
      },
      "source": [
        "№1.\n",
        "В то далёкое время, когда Паша ходил в школу, ему очень не нравилась формула Герона для вычисления площади треугольника, так как казалась слишком сложной. В один прекрасный момент Павел решил избавить всех школьников от страданий и написать и распространить по школам программу, вычисляющую площадь треугольника по трём сторонам.\n",
        "\n",
        "Одна проблема: так как эта формула не нравилась Павлу, он её не запомнил. Помогите ему завершить доброе дело и напишите программу, вычисляющую площадь треугольника по переданным длинам трёх его сторон по формуле Герона:\n",
        "\n",
        "𝑆=√(p(p−a)(p−b)(p−c))\n",
        "\n",
        "где 𝑝=(𝑎+𝑏+𝑐)/2\n",
        " – полупериметр треугольника. На вход программе подаются целые числа, выводом программы должно являться вещественное число, соответствующее площади треугольника."
      ]
    },
    {
      "cell_type": "markdown",
      "metadata": {
        "id": "PZCY7doX3ao3",
        "colab_type": "text"
      },
      "source": [
        "Решение:"
      ]
    },
    {
      "cell_type": "code",
      "metadata": {
        "id": "m564k_d221OP",
        "colab_type": "code",
        "colab": {
          "base_uri": "https://localhost:8080/",
          "height": 85
        },
        "outputId": "c7d50c83-f0b9-4e6e-885b-1e0e78e44dd4"
      },
      "source": [
        "a=int(input('Введите a: '))\n",
        "b=int(input('Введите b: '))\n",
        "c=int(input('Введите c: '))\n",
        "p=(a+b+c)/2\n",
        "print('S =',((p*(p-a)*(p-b)*(p-c)))**(1/2))"
      ],
      "execution_count": 5,
      "outputs": [
        {
          "output_type": "stream",
          "text": [
            "Введите a: 3\n",
            "Введите b: 4\n",
            "Введите c: 5\n",
            "S = 6.0\n"
          ],
          "name": "stdout"
        }
      ]
    },
    {
      "cell_type": "markdown",
      "metadata": {
        "id": "hgSyI-ir57Z6",
        "colab_type": "text"
      },
      "source": [
        "№2. Напишите программу, принимающую на вход целое число, которая выводит True, если переданное значение попадает в интервал\n",
        "(\n",
        "−\n",
        "15\n",
        ",\n",
        "12\n",
        "]\n",
        "∪\n",
        "(\n",
        "14\n",
        ", 17\n",
        ")\n",
        "∪\n",
        "[\n",
        "19\n",
        ",\n",
        "+\n",
        "∞\n",
        ")\n",
        " и False в противном случае (регистр символов имеет значение)."
      ]
    },
    {
      "cell_type": "markdown",
      "metadata": {
        "id": "--s7avFj6BQM",
        "colab_type": "text"
      },
      "source": [
        "Решение:"
      ]
    },
    {
      "cell_type": "code",
      "metadata": {
        "id": "nch4K55q4hkG",
        "colab_type": "code",
        "colab": {
          "base_uri": "https://localhost:8080/",
          "height": 55
        },
        "outputId": "77b4d022-0e27-47bd-82f8-b0a7903ed79f"
      },
      "source": [
        "a=int(input('Введите целое число: '))\n",
        "if -15<a<=12 or 14<a<17 or 19<=a:\n",
        "  print('True')\n",
        "else:\n",
        "  print('False')"
      ],
      "execution_count": 8,
      "outputs": [
        {
          "output_type": "stream",
          "text": [
            "Введите целое число: -20\n",
            "False\n"
          ],
          "name": "stdout"
        }
      ]
    },
    {
      "cell_type": "markdown",
      "metadata": {
        "id": "oBb7Y3TK77P7",
        "colab_type": "text"
      },
      "source": [
        "№3.\n",
        "Напишите простой калькулятор, который считывает с пользовательского ввода три строки: первое число, второе число и операцию, после чего применяет операцию к введённым числам (\"первое число\" \"операция\" \"второе число\") и выводит результат на экран.\n",
        "\n",
        "Поддерживаемые операции: +, -, /, *, mod, pow, div, где \n",
        "mod — это взятие остатка от деления, \n",
        "pow — возведение в степень, \n",
        "div — целочисленное деление.\n",
        "\n",
        "Если выполняется деление и второе число равно 0, необходимо выводить строку \"Деление на 0!\".\n",
        "\n",
        "Обратите внимание, что на вход программе приходят вещественные числа."
      ]
    },
    {
      "cell_type": "markdown",
      "metadata": {
        "id": "6_5CDCqB7_Ud",
        "colab_type": "text"
      },
      "source": [
        "Решение:"
      ]
    },
    {
      "cell_type": "code",
      "metadata": {
        "id": "OYowrv0o7SOP",
        "colab_type": "code",
        "colab": {
          "base_uri": "https://localhost:8080/",
          "height": 85
        },
        "outputId": "a6b65840-57e2-4cb4-f46c-8c0ecc7f965c"
      },
      "source": [
        "a=float(input('Введите первое число: '))\n",
        "b=float(input('Введите второе число: '))\n",
        "c=input()\n",
        "if (c=='/' or c=='mod' or c=='div') and b==0.0:\n",
        "  print('Деление на 0!')\n",
        "else:\n",
        "  if c=='+':\n",
        "    print(a+b)\n",
        "  elif c=='-':\n",
        "    print(a-b)\n",
        "  elif c=='/':\n",
        "    print(a/b)\n",
        "  elif c=='mod':\n",
        "    print(a%b)\n",
        "  elif c=='*':\n",
        "    print(a*b)\n",
        "  elif c=='pow':\n",
        "    print(a**b)\n",
        "  elif c=='div':\n",
        "    print(a//b)"
      ],
      "execution_count": 12,
      "outputs": [
        {
          "output_type": "stream",
          "text": [
            "Введите первое число: 5.0\n",
            "Введите второе число: 0.0\n",
            "mod\n",
            "Деление на 0!\n"
          ],
          "name": "stdout"
        }
      ]
    },
    {
      "cell_type": "markdown",
      "metadata": {
        "id": "tdvPrZU0-G3d",
        "colab_type": "text"
      },
      "source": [
        "№4.\n",
        "Жители страны Малевии часто экспериментируют с планировкой комнат. Комнаты бывают треугольные, прямоугольные и круглые. Чтобы быстро вычислять жилплощадь, требуется написать программу, на вход которой подаётся тип фигуры комнаты и соответствующие параметры, которая бы выводила площадь получившейся комнаты.\n",
        "Для числа π в стране Малевии используют значение 3.14"
      ]
    },
    {
      "cell_type": "markdown",
      "metadata": {
        "id": "H6nUznlJ-Kzk",
        "colab_type": "text"
      },
      "source": [
        "Решение:"
      ]
    },
    {
      "cell_type": "code",
      "metadata": {
        "id": "EpBzc8qx9hdM",
        "colab_type": "code",
        "colab": {
          "base_uri": "https://localhost:8080/",
          "height": 102
        },
        "outputId": "37b52f75-1c44-4dda-f2da-6e829b43ae8b"
      },
      "source": [
        "text=input('Введите форму квартиры: ')\n",
        "if text=='треугольник':\n",
        "  a=int(input())\n",
        "  b=int(input())\n",
        "  c=int(input())\n",
        "  p=(a+b+c)/2\n",
        "  print((p*(p-a)*(p-b)*(p-c))**(1/2))\n",
        "elif text=='прямоугольник':\n",
        "  a=int(input())\n",
        "  b=int(input())\n",
        "  print(a*b)\n",
        "elif text=='круг':\n",
        "  r=int(input())\n",
        "  print(3.14*(r**2))\n",
        "else:\n",
        "  print('Такая форма недоступна')"
      ],
      "execution_count": 18,
      "outputs": [
        {
          "output_type": "stream",
          "text": [
            "Введите форму квартиры: треугольник\n",
            "3\n",
            "4\n",
            "5\n",
            "6.0\n"
          ],
          "name": "stdout"
        }
      ]
    },
    {
      "cell_type": "markdown",
      "metadata": {
        "id": "5Al1PUp1AFmW",
        "colab_type": "text"
      },
      "source": [
        "№5. Напишите программу, которая получает на вход три целых числа, по одному числу в строке, и выводит на консоль в три строки сначала максимальное, потом минимальное, после чего оставшееся число."
      ]
    },
    {
      "cell_type": "markdown",
      "metadata": {
        "id": "H_toW9jcALrn",
        "colab_type": "text"
      },
      "source": [
        "Решение:"
      ]
    },
    {
      "cell_type": "code",
      "metadata": {
        "id": "yYT4ui9P_dnQ",
        "colab_type": "code",
        "colab": {
          "base_uri": "https://localhost:8080/",
          "height": 119
        },
        "outputId": "16062022-5abe-4440-d47d-0d11d8808f0f"
      },
      "source": [
        "a = int(input())\n",
        "b = int(input())\n",
        "c = int(input())\n",
        "d = list(sorted([a,b,c]))\n",
        "print (d[-1])\n",
        "print (d[0])\n",
        "print (d[1])"
      ],
      "execution_count": 24,
      "outputs": [
        {
          "output_type": "stream",
          "text": [
            "23\n",
            "23\n",
            "21\n",
            "23\n",
            "21\n",
            "23\n"
          ],
          "name": "stdout"
        }
      ]
    },
    {
      "cell_type": "code",
      "metadata": {
        "id": "vT1Al75cByXQ",
        "colab_type": "code",
        "colab": {
          "base_uri": "https://localhost:8080/",
          "height": 119
        },
        "outputId": "bf168c5a-83a1-442b-ca92-eec0c7b8391f"
      },
      "source": [
        "a,b,c = int(input()), int(input()), int(input())\n",
        "\n",
        "if a < b:\n",
        "\ta, b = b, a\n",
        "if a < c:\n",
        "\ta, c = c, a\n",
        "if b > c:\n",
        "\tb, c = c, b\n",
        "print(a)\n",
        "print(b)\n",
        "print(c)"
      ],
      "execution_count": 25,
      "outputs": [
        {
          "output_type": "stream",
          "text": [
            "23\n",
            "23\n",
            "21\n",
            "23\n",
            "21\n",
            "23\n"
          ],
          "name": "stdout"
        }
      ]
    },
    {
      "cell_type": "markdown",
      "metadata": {
        "id": "zziSJeBiIqJB",
        "colab_type": "text"
      },
      "source": [
        "№6. В институте биоинформатики по офису передвигается робот. Недавно студенты из группы программистов написали для него программу, по которой робот, когда заходит в комнату, считает количество программистов в ней и произносит его вслух: \"n программистов\".\n",
        "\n",
        "Для того, чтобы это звучало правильно, для каждого 𝑛\n",
        "n\n",
        " нужно использовать верное окончание слова.\n",
        "\n",
        "Напишите программу, считывающую с пользовательского ввода целое число 𝑛\n",
        "n\n",
        " (неотрицательное), выводящее это число в консоль вместе с правильным образом изменённым словом \"программист\", для того, чтобы робот мог нормально общаться с людьми, например: 1 программист, 2 программиста, 5 программистов.\n",
        "\n",
        "В комнате может быть очень много программистов. Проверьте, что ваша программа правильно обработает все случаи, как минимум до 1000 человек.\n",
        "\n"
      ]
    },
    {
      "cell_type": "code",
      "metadata": {
        "id": "2ClgnWzDEh4r",
        "colab_type": "code",
        "colab": {
          "base_uri": "https://localhost:8080/",
          "height": 51
        },
        "outputId": "820918e3-4006-42e1-cab9-4329f847e370"
      },
      "source": [
        "n=int(input())\n",
        "if n%10==1 and n%100!=11:\n",
        "  print(n, 'программист')\n",
        "elif 1<n%10<5 and n%100!=12 and n%100!=13 and n%100!=14:\n",
        "  print(n, 'программиста')\n",
        "else:\n",
        "  print(n, 'программистов')"
      ],
      "execution_count": 33,
      "outputs": [
        {
          "output_type": "stream",
          "text": [
            "2\n",
            "2 программиста\n"
          ],
          "name": "stdout"
        }
      ]
    },
    {
      "cell_type": "markdown",
      "metadata": {
        "id": "uq6X2CxaLmyw",
        "colab_type": "text"
      },
      "source": [
        "№7. Паша очень любит кататься на общественном транспорте, а получая билет, сразу проверяет, счастливый ли ему попался. Билет считается счастливым, если сумма первых трех цифр совпадает с суммой последних трех цифр номера билета.\n",
        "\n",
        "Однако Паша очень плохо считает в уме, поэтому попросил вас написать программу, которая проверит равенство сумм и выведет \"Счастливый\", если суммы совпадают, и \"Обычный\", если суммы различны."
      ]
    },
    {
      "cell_type": "markdown",
      "metadata": {
        "id": "a5dXtm00Lpo2",
        "colab_type": "text"
      },
      "source": [
        "Решение:"
      ]
    },
    {
      "cell_type": "code",
      "metadata": {
        "id": "lqHa65zKKT-D",
        "colab_type": "code",
        "colab": {
          "base_uri": "https://localhost:8080/",
          "height": 55
        },
        "outputId": "acc8163f-07bd-43f2-ba77-8c970e7eb97e"
      },
      "source": [
        "number=str(input('Введите номер билета (6 цифр): '))\n",
        "if len(number)==6:\n",
        "  sum1=int(number[0])+int(number[1])+int(number[2])\n",
        "  sum2=int(number[3])+int(number[4])+int(number[5])\n",
        "  if sum1==sum2:\n",
        "    print('Счастливый')\n",
        "  else:\n",
        "    print('Обычный')\n",
        "elif len(number)>6:\n",
        "  print('Вы ввели слишком много цифр')\n",
        "else:\n",
        "  print('Вы ввели недостаточно цифр')"
      ],
      "execution_count": 40,
      "outputs": [
        {
          "output_type": "stream",
          "text": [
            "Введите номер билета (6 цифр): 123456\n",
            "Обычный\n"
          ],
          "name": "stdout"
        }
      ]
    },
    {
      "cell_type": "code",
      "metadata": {
        "id": "h7i_tN78NN8t",
        "colab_type": "code",
        "colab": {}
      },
      "source": [
        ""
      ],
      "execution_count": 0,
      "outputs": []
    }
  ]
}
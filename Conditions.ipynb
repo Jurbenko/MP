{
  "nbformat": 4,
  "nbformat_minor": 0,
  "metadata": {
    "colab": {
      "name": "Conditions.ipynb",
      "version": "0.3.2",
      "provenance": [],
      "collapsed_sections": [],
      "include_colab_link": true
    },
    "kernelspec": {
      "name": "python3",
      "display_name": "Python 3"
    }
  },
  "cells": [
    {
      "cell_type": "markdown",
      "metadata": {
        "id": "view-in-github",
        "colab_type": "text"
      },
      "source": [
        "<a href=\"https://colab.research.google.com/github/Jurbenko/my-projects/blob/master/Conditions.ipynb\" target=\"_parent\"><img src=\"https://colab.research.google.com/assets/colab-badge.svg\" alt=\"Open In Colab\"/></a>"
      ]
    },
    {
      "cell_type": "code",
      "metadata": {
        "id": "XIEJYWK2p-au",
        "colab_type": "code",
        "colab": {
          "base_uri": "https://localhost:8080/",
          "height": 51
        },
        "outputId": "bfeed7c7-6050-4fd4-a9ba-ebabe43ead95"
      },
      "source": [
        "x=int(input())\n",
        "if x%2==0:\n",
        "  print('Чётное')\n",
        "else:\n",
        "  print('Нечётное')"
      ],
      "execution_count": 3,
      "outputs": [
        {
          "output_type": "stream",
          "text": [
            "3\n",
            "Нечётное\n"
          ],
          "name": "stdout"
        }
      ]
    },
    {
      "cell_type": "code",
      "metadata": {
        "id": "FgMRjRScrGfm",
        "colab_type": "code",
        "colab": {
          "base_uri": "https://localhost:8080/",
          "height": 68
        },
        "outputId": "7354da7b-ca7b-4bf0-fd37-269d382cee11"
      },
      "source": [
        "a=int(input())\n",
        "b=int(input())\n",
        "if a>=b:\n",
        "  print(a)\n",
        "else:\n",
        "  print(b)"
      ],
      "execution_count": 4,
      "outputs": [
        {
          "output_type": "stream",
          "text": [
            "5\n",
            "4\n",
            "5\n"
          ],
          "name": "stdout"
        }
      ]
    },
    {
      "cell_type": "code",
      "metadata": {
        "id": "E4aAQf02rlqc",
        "colab_type": "code",
        "colab": {
          "base_uri": "https://localhost:8080/",
          "height": 68
        },
        "outputId": "d5c65bf8-e450-46b5-a8ef-ae7d15b96ed2"
      },
      "source": [
        "a=int(input())\n",
        "b=int(input())\n",
        "m=a\n",
        "if b>m:\n",
        "   m=b\n",
        "print(m)"
      ],
      "execution_count": 9,
      "outputs": [
        {
          "output_type": "stream",
          "text": [
            "4\n",
            "5\n",
            "5\n"
          ],
          "name": "stdout"
        }
      ]
    },
    {
      "cell_type": "code",
      "metadata": {
        "id": "TT1g6_45sHym",
        "colab_type": "code",
        "colab": {
          "base_uri": "https://localhost:8080/",
          "height": 106
        },
        "outputId": "63cf411c-e218-4228-bdf2-1d0ad7347001"
      },
      "source": [
        "a=int(input())\n",
        "b=int(input())\n",
        "if b!=0:\n",
        "  print(a/b)\n",
        "else:\n",
        "  print('Деление невозможно')\n",
        "  b=int(input('Введите ненулевое значение '))\n",
        "  if b==0:\n",
        "    print('Вы не справились')\n",
        "  else:\n",
        "    print(a/b)\n",
        "  "
      ],
      "execution_count": 16,
      "outputs": [
        {
          "output_type": "stream",
          "text": [
            "4\n",
            "0\n",
            "Деление невозможно\n",
            "Введите ненулевое значение 0\n",
            "Вы не справились\n"
          ],
          "name": "stdout"
        }
      ]
    },
    {
      "cell_type": "markdown",
      "metadata": {
        "id": "_xDUSjVSudfa",
        "colab_type": "text"
      },
      "source": [
        "Задача 1: Из передачи “Здоровье” Аня узнала, что рекомендуется спать хотя бы 𝐴\n",
        "A\n",
        " часов в сутки, но пересыпать тоже вредно и не стоит спать более 𝐵\n",
        "B\n",
        " часов. Сейчас Аня спит 𝐻\n",
        "H\n",
        " часов в сутки. Если режим сна Ани удовлетворяет рекомендациям передачи “Здоровье”, выведите “Это нормально”. Если Аня спит менее 𝐴\n",
        "A\n",
        " часов, выведите “Недосып”, если же более\n",
        "B часов, то выведите “Пересып”."
      ]
    },
    {
      "cell_type": "markdown",
      "metadata": {
        "id": "4pUjFDzTwVWb",
        "colab_type": "text"
      },
      "source": [
        "Решение:"
      ]
    },
    {
      "cell_type": "code",
      "metadata": {
        "id": "lTo5tWITuoqR",
        "colab_type": "code",
        "colab": {
          "base_uri": "https://localhost:8080/",
          "height": 85
        },
        "outputId": "ba9fe3da-f191-4f83-9a1e-02efaf94d292"
      },
      "source": [
        "a=int(input())\n",
        "b=int(input())\n",
        "h=int(input())\n",
        "if a<=b:\n",
        "  if h<a:\n",
        "    print('Недосып')\n",
        "  elif h>b:\n",
        "    print('Пересып')\n",
        "  else:\n",
        "    print('Это нормально')\n",
        "else:\n",
        "  print('Вы ввели данные некорректно')"
      ],
      "execution_count": 19,
      "outputs": [
        {
          "output_type": "stream",
          "text": [
            "7\n",
            "9\n",
            "2\n",
            "Недосып\n"
          ],
          "name": "stdout"
        }
      ]
    },
    {
      "cell_type": "markdown",
      "metadata": {
        "id": "XOmFGIOPwoPa",
        "colab_type": "text"
      },
      "source": [
        "Задача 2:\n",
        "Требуется определить, является ли данный год високосным.\n",
        "\n",
        "Напомним, что високосными годами считаются те годы, порядковый номер которых либо кратен 4, но при этом не кратен 100, либо кратен 400 (например, 2000-й год являлся високосным, а 2100-й будет невисокосным годом). \n",
        "\n",
        "Программа должна корректно работать на числах 1900≤n≤3000"
      ]
    },
    {
      "cell_type": "markdown",
      "metadata": {
        "id": "5CsuXSjNzdZB",
        "colab_type": "text"
      },
      "source": [
        "Решение:"
      ]
    },
    {
      "cell_type": "code",
      "metadata": {
        "id": "fanxZz6uvzF1",
        "colab_type": "code",
        "colab": {
          "base_uri": "https://localhost:8080/",
          "height": 55
        },
        "outputId": "1c45a470-08ba-40e0-e8c6-5b035bc6ed5c"
      },
      "source": [
        "n=int(input('Введите год от 1900 до 3000: '))\n",
        "if 1900<=n<=3000:\n",
        "  if (n%4==0) and (n%100!=0) or (n%400==0):\n",
        "    print('Високосный')\n",
        "  else:\n",
        "    print('Обычный')\n",
        "else:\n",
        "  print('Вы ввели недопустимое значение')"
      ],
      "execution_count": 30,
      "outputs": [
        {
          "output_type": "stream",
          "text": [
            "Введите год от 1900 до 3000: 2100\n",
            "Обычный\n"
          ],
          "name": "stdout"
        }
      ]
    },
    {
      "cell_type": "code",
      "metadata": {
        "id": "lEUJb711xkxj",
        "colab_type": "code",
        "colab": {}
      },
      "source": [
        ""
      ],
      "execution_count": 0,
      "outputs": []
    }
  ]
}
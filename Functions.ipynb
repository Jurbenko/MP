{
  "nbformat": 4,
  "nbformat_minor": 0,
  "metadata": {
    "colab": {
      "name": "Functions.ipynb",
      "provenance": [],
      "collapsed_sections": [],
      "include_colab_link": true
    },
    "kernelspec": {
      "name": "python3",
      "display_name": "Python 3"
    }
  },
  "cells": [
    {
      "cell_type": "markdown",
      "metadata": {
        "id": "view-in-github",
        "colab_type": "text"
      },
      "source": [
        "<a href=\"https://colab.research.google.com/github/Jurbenko/my-projects/blob/master/Functions.ipynb\" target=\"_parent\"><img src=\"https://colab.research.google.com/assets/colab-badge.svg\" alt=\"Open In Colab\"/></a>"
      ]
    },
    {
      "cell_type": "code",
      "metadata": {
        "id": "75GC6tJnnNuH",
        "colab_type": "code",
        "colab": {}
      },
      "source": [
        "def min2(a,b):\n",
        "  if a<=b:\n",
        "    return(a)\n",
        "  else:\n",
        "    return(b)"
      ],
      "execution_count": 0,
      "outputs": []
    },
    {
      "cell_type": "code",
      "metadata": {
        "id": "0LNTA_Qin1UB",
        "colab_type": "code",
        "colab": {}
      },
      "source": [
        "m=min2(2,5)\n",
        "n=min2(min2(3,4),6)"
      ],
      "execution_count": 0,
      "outputs": []
    },
    {
      "cell_type": "code",
      "metadata": {
        "id": "DeMe0DR1n8FG",
        "colab_type": "code",
        "outputId": "eb8cad02-e609-476a-aba6-08991f24a1b1",
        "colab": {
          "base_uri": "https://localhost:8080/",
          "height": 51
        }
      },
      "source": [
        "def f(n):\n",
        "    return n * 10 + 5\n",
        "n=int(input())\n",
        "i=f(f(f(n)))\n",
        "print(i)"
      ],
      "execution_count": 0,
      "outputs": [
        {
          "output_type": "stream",
          "text": [
            "10\n",
            "10555\n"
          ],
          "name": "stdout"
        }
      ]
    },
    {
      "cell_type": "code",
      "metadata": {
        "id": "p44xlAhNoTdl",
        "colab_type": "code",
        "colab": {}
      },
      "source": [
        "def min(*a):\n",
        "  m=a[0]\n",
        "  for x in a:\n",
        "    if m>x:\n",
        "      m=x\n",
        "  return m"
      ],
      "execution_count": 0,
      "outputs": []
    },
    {
      "cell_type": "code",
      "metadata": {
        "id": "GwGAeqthpYBn",
        "colab_type": "code",
        "colab": {}
      },
      "source": [
        "def my_range(start,stop,step=1):\n",
        "  res=[]\n",
        "  if step>0:\n",
        "    x=start\n",
        "    while x<stop:\n",
        "      res+=[x]\n",
        "      x+=step\n",
        "  elif step<0:\n",
        "    x=start\n",
        "    while x>stop:\n",
        "      res+=[x]\n",
        "      x+=step\n",
        "  return res"
      ],
      "execution_count": 0,
      "outputs": []
    },
    {
      "cell_type": "code",
      "metadata": {
        "id": "o1RfrnAGp-Pt",
        "colab_type": "code",
        "outputId": "b941530c-bd10-4046-b8df-e753dd790c21",
        "colab": {
          "base_uri": "https://localhost:8080/",
          "height": 34
        }
      },
      "source": [
        "my_range(stop=20,start=5)"
      ],
      "execution_count": 0,
      "outputs": [
        {
          "output_type": "execute_result",
          "data": {
            "text/plain": [
              "[5, 6, 7, 8, 9, 10, 11, 12, 13, 14, 15, 16, 17, 18, 19]"
            ]
          },
          "metadata": {
            "tags": []
          },
          "execution_count": 12
        }
      ]
    },
    {
      "cell_type": "markdown",
      "metadata": {
        "id": "0VrTLMyftcZX",
        "colab_type": "text"
      },
      "source": [
        "Напишите функцию f(x), которая возвращает значение следующей функции, определённой на всей числовой прямой: f(x) =  1-(x+2)^2, при x≤-2; -x/2, при -2<x≤2; ((x-2)^2)+1, при 2<x\n",
        "Требуется реализовать только функцию, решение не должно осуществлять операций ввода-вывода."
      ]
    },
    {
      "cell_type": "code",
      "metadata": {
        "id": "9Gg4w20XqZXD",
        "colab_type": "code",
        "colab": {}
      },
      "source": [
        "def f(x):\n",
        "  if x<=-2:\n",
        "    f=(1-(x+2)**2)\n",
        "  elif x>2:\n",
        "    f=(((x-2)^2)+1)\n",
        "  else:\n",
        "    f=(-(x/2))\n",
        "  return f"
      ],
      "execution_count": 0,
      "outputs": []
    },
    {
      "cell_type": "markdown",
      "metadata": {
        "id": "7bdFtJg6vgpI",
        "colab_type": "text"
      },
      "source": [
        "Напишите функцию modify_list(l), которая принимает на вход список целых чисел, удаляет из него все нечётные значения, а чётные нацело делит на два. Функция не должна ничего возвращать, требуется только изменение переданного списка"
      ]
    },
    {
      "cell_type": "code",
      "metadata": {
        "id": "8qDRDIdRvKbE",
        "colab_type": "code",
        "colab": {}
      },
      "source": [
        "def modify_list(l):\n",
        "    for i in reversed(range(len(l))):\n",
        "        if l[i]%2 == 0:\n",
        "            l[i] = l[i]//2\n",
        "        else:\n",
        "            del l[i]"
      ],
      "execution_count": 0,
      "outputs": []
    }
  ]
}